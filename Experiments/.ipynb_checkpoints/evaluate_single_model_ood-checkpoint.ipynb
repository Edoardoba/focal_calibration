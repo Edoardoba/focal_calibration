{
 "cells": [
  {
   "cell_type": "markdown",
   "metadata": {},
   "source": [
    "This notebook takes a model trained on CIFAR-10 and gets ROC curve for OOD detection assuming SVHN to be the OOD dataset. "
   ]
  },
  {
   "cell_type": "code",
   "execution_count": 1,
   "metadata": {},
   "outputs": [],
   "source": [
    "import os\n",
    "import sys\n",
    "cwd = os.getcwd()\n",
    "module_path = \"/\".join(cwd.split('/')[0:-1])\n",
    "if module_path not in sys.path:\n",
    "    sys.path.append(module_path)\n",
    "import torch\n",
    "import random\n",
    "import matplotlib.pyplot as plt\n",
    "import torch.backends.cudnn as cudnn"
   ]
  },
  {
   "cell_type": "code",
   "execution_count": 2,
   "metadata": {},
   "outputs": [],
   "source": [
    "# Import dataloaders\n",
    "import Data.cifar10 as cifar10\n",
    "import Data.svhn as svhn"
   ]
  },
  {
   "cell_type": "code",
   "execution_count": 3,
   "metadata": {},
   "outputs": [],
   "source": [
    "# Import network architectures\n",
    "from Net.resnet import resnet50, resnet110\n",
    "from Net.wide_resnet import wide_resnet_cifar\n",
    "from Net.densenet import densenet121"
   ]
  },
  {
   "cell_type": "code",
   "execution_count": 4,
   "metadata": {},
   "outputs": [],
   "source": [
    "# Import metrics to compute\n",
    "from Metrics.ood_test_utils import get_roc_auc"
   ]
  },
  {
   "cell_type": "code",
   "execution_count": 14,
   "metadata": {},
   "outputs": [],
   "source": [
    "# Import plot related libraries\n",
    "import seaborn as sb\n",
    "import matplotlib.pyplot as plt"
   ]
  },
  {
   "cell_type": "code",
   "execution_count": 5,
   "metadata": {},
   "outputs": [],
   "source": [
    "# Dataset params\n",
    "dataset_num_classes = {\n",
    "    'cifar10': 10,\n",
    "    'svhn': 10\n",
    "}\n",
    "\n",
    "dataset_loader = {\n",
    "    'cifar10': cifar10,\n",
    "    'svhn': svhn\n",
    "}"
   ]
  },
  {
   "cell_type": "code",
   "execution_count": 6,
   "metadata": {},
   "outputs": [],
   "source": [
    "# Mapping model name to model function\n",
    "models = {\n",
    "    'resnet50': resnet50,\n",
    "    'resnet110': resnet110,\n",
    "    'wide_resnet': wide_resnet_cifar,\n",
    "    'densenet121': densenet121,\n",
    "}"
   ]
  },
  {
   "cell_type": "code",
   "execution_count": 7,
   "metadata": {},
   "outputs": [],
   "source": [
    "# Checking if GPU is available\n",
    "cuda = False\n",
    "if (torch.cuda.is_available()):\n",
    "    cuda = True\n",
    "\n",
    "# Setting additional parameters\n",
    "torch.manual_seed(1)\n",
    "device = torch.device(\"cuda\" if cuda else \"cpu\")"
   ]
  },
  {
   "cell_type": "code",
   "execution_count": 8,
   "metadata": {},
   "outputs": [],
   "source": [
    "class args:\n",
    "    data_aug = True\n",
    "    gpu = device == \"cuda\"\n",
    "    train_batch_size = 128\n",
    "    test_batch_size = 128"
   ]
  },
  {
   "cell_type": "code",
   "execution_count": 10,
   "metadata": {},
   "outputs": [
    {
     "name": "stdout",
     "output_type": "stream",
     "text": [
      "Files already downloaded and verified\n",
      "Files already downloaded and verified\n",
      "Using downloaded and verified file: ./data/train_32x32.mat\n",
      "Using downloaded and verified file: ./data/train_32x32.mat\n",
      "Using downloaded and verified file: ./data/test_32x32.mat\n"
     ]
    }
   ],
   "source": [
    "dataset = 'cifar10'\n",
    "ood_dataset = 'svhn'\n",
    "\n",
    "num_classes = dataset_num_classes[dataset]\n",
    "train_loader, val_loader = dataset_loader[dataset].get_train_valid_loader(\n",
    "    batch_size=args.train_batch_size,\n",
    "    augment=args.data_aug,\n",
    "    random_seed=1,\n",
    "    pin_memory=args.gpu\n",
    ")\n",
    "\n",
    "test_loader = dataset_loader[dataset].get_test_loader(\n",
    "    batch_size=args.test_batch_size,\n",
    "    pin_memory=args.gpu\n",
    ")\n",
    "\n",
    "\n",
    "ood_train_loader, ood_val_loader = dataset_loader[ood_dataset].get_train_valid_loader(\n",
    "    batch_size=args.train_batch_size,\n",
    "    augment=args.data_aug,\n",
    "    random_seed=1,\n",
    "    pin_memory=args.gpu\n",
    ")\n",
    "\n",
    "ood_test_loader = dataset_loader[ood_dataset].get_test_loader(\n",
    "    batch_size=args.test_batch_size,\n",
    "    pin_memory=args.gpu\n",
    ")"
   ]
  },
  {
   "cell_type": "code",
   "execution_count": 12,
   "metadata": {},
   "outputs": [
    {
     "name": "stdout",
     "output_type": "stream",
     "text": [
      "Enter the model: \n",
      "resnet50\n",
      "Enter saved model name: \n",
      "resnet50_cross_entropy_350.model\n"
     ]
    }
   ],
   "source": [
    "# Taking input for the model\n",
    "print ('Enter the model: ')\n",
    "model_name = input()\n",
    "print ('Enter saved model name: ')\n",
    "saved_model_name = input()\n",
    "\n",
    "model = models[model_name]"
   ]
  },
  {
   "cell_type": "code",
   "execution_count": 13,
   "metadata": {},
   "outputs": [],
   "source": [
    "net = model(num_classes=num_classes, temp=1.0)\n",
    "net.cuda()\n",
    "net = torch.nn.DataParallel(net, device_ids=range(torch.cuda.device_count()))\n",
    "cudnn.benchmark = True\n",
    "net.load_state_dict(torch.load('./' + str(saved_model_name)))\n",
    "\n",
    "(fpr_entropy, tpr_entropy, thresholds_entropy), (fpr_confidence, tpr_confidence, thresholds_confidence), auc_entropy, auc_confidence = get_roc_auc(net, test_loader, ood_test_loader, device)"
   ]
  },
  {
   "cell_type": "code",
   "execution_count": null,
   "metadata": {},
   "outputs": [],
   "source": [
    "clrs = ['#1f77b4','#ff7f0e', '#2ca02c','#d62728', '#9467bd', '#8c564b', '#e377c2', '#7f7f7f', '#bcbd22','#17becf']\n",
    "\n",
    "plt.figure()\n",
    "plt.rcParams[\"figure.figsize\"] = (10, 8)\n",
    "sb.set_style('whitegrid')\n",
    "plt.plot(fpr_entropy, tpr_entropy, color=clrs[0], linewidth=5, label='ROC')\n",
    "\n",
    "plt.xticks(fontsize=40)\n",
    "plt.yticks(fontsize=40)\n",
    "plt.xlabel('FPR', fontsize=55)\n",
    "plt.ylabel('TPR', fontsize=55)\n",
    "plt.legend(fontsize=28)\n",
    "        \n",
    "print ('AUROC entropy: ' + str(auc_entropy))"
   ]
  }
 ],
 "metadata": {
  "kernelspec": {
   "display_name": "Python 3",
   "language": "python",
   "name": "python3"
  },
  "language_info": {
   "codemirror_mode": {
    "name": "ipython",
    "version": 3
   },
   "file_extension": ".py",
   "mimetype": "text/x-python",
   "name": "python",
   "nbconvert_exporter": "python",
   "pygments_lexer": "ipython3",
   "version": "3.7.6"
  }
 },
 "nbformat": 4,
 "nbformat_minor": 4
}
